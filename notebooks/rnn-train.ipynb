{
 "cells": [
  {
   "cell_type": "markdown",
   "metadata": {},
   "source": [
    "### RNN Training Notebook  \n",
    "\n",
    "This notebook trains an AI model to predict mouse cursor movement paths. The model is built using a Recurrent Neural Network (RNN) with an LSTM layer for attention."
   ]
  },
  {
   "cell_type": "code",
   "execution_count": 14,
   "metadata": {},
   "outputs": [],
   "source": [
    "import os\n",
    "import json\n",
    "import torch\n",
    "import numpy as np\n",
    "from collections import Counter\n",
    "import torch.nn as nn\n",
    "from torch.cuda.amp import GradScaler, autocast\n",
    "from torch.utils.data import DataLoader, TensorDataset"
   ]
  },
  {
   "cell_type": "code",
   "execution_count": null,
   "metadata": {},
   "outputs": [
    {
     "name": "stdout",
     "output_type": "stream",
     "text": [
      "/Users/arpanbhandari/Documents/coding/bumblebee/data/processed/cleaned-data-39-steps-merged-prepared-data-2025-03-08-16:07:40.json exists: Yes\n"
     ]
    }
   ],
   "source": [
    "dataset_path = os.path.join(os.path.dirname(os.getcwd()), \"data\", \"processed\", 'cleaned-data-39-steps-merged-prepared-data-2025-03-08-16:27:23.json') # this path is for the cleaned data; must be changed accordingly\n",
    "\n",
    "print(f\"{dataset_path} exists: {\"Yes\" if os.path.exists(dataset_path) else 'No'}\") ## must be Yes"
   ]
  },
  {
   "cell_type": "code",
   "execution_count": 16,
   "metadata": {},
   "outputs": [],
   "source": [
    "dataset_file = open(dataset_path, 'r')\n",
    "dataset_json = json.load(dataset_file)\n",
    "dataset_file.close()"
   ]
  },
  {
   "cell_type": "code",
   "execution_count": 17,
   "metadata": {},
   "outputs": [
    {
     "data": {
      "text/plain": [
       "device(type='mps')"
      ]
     },
     "execution_count": 17,
     "metadata": {},
     "output_type": "execute_result"
    }
   ],
   "source": [
    "device = torch.device(\"cuda\" if torch.cuda.is_available() else \"mps\" if torch.backends.mps.is_available() else \"cpu\")\n",
    "device"
   ]
  },
  {
   "cell_type": "code",
   "execution_count": 22,
   "metadata": {},
   "outputs": [],
   "source": [
    "input_data = np.array(dataset_json['input'], dtype=np.float64)\n",
    "output_data = np.array(dataset_json['output'], dtype=np.float64)\n",
    "\n",
    "# print(Counter([len(x) for x in dataset_json['output']]))\n",
    "\n",
    "# # Check for non-integer elements in the output data\n",
    "# non_int_examples = [x for x in dataset_json['output'] if any(not (isinstance(point, int) or isinstance(point, float)) for point in x)]\n",
    "# print(f\"Found {len(non_int_examples)} examples with non-integer values\")\n",
    "# if non_int_examples:\n",
    "#     print(\"First few non-integer examples:\")\n",
    "#     for i, example in enumerate(non_int_examples[:10]):\n",
    "#         print(f\"Example {i}: {example[:5]}...\")"
   ]
  },
  {
   "cell_type": "code",
   "execution_count": 23,
   "metadata": {},
   "outputs": [],
   "source": [
    "input_data = torch.tensor(input_data, dtype=torch.float32).to(device)\n",
    "output_data = torch.tensor(output_data, dtype=torch.float32).to(device)"
   ]
  },
  {
   "cell_type": "code",
   "execution_count": null,
   "metadata": {},
   "outputs": [],
   "source": []
  },
  {
   "cell_type": "code",
   "execution_count": null,
   "metadata": {},
   "outputs": [],
   "source": []
  }
 ],
 "metadata": {
  "kernelspec": {
   "display_name": "bumblebee",
   "language": "python",
   "name": "python3"
  },
  "language_info": {
   "codemirror_mode": {
    "name": "ipython",
    "version": 3
   },
   "file_extension": ".py",
   "mimetype": "text/x-python",
   "name": "python",
   "nbconvert_exporter": "python",
   "pygments_lexer": "ipython3",
   "version": "3.13.2"
  }
 },
 "nbformat": 4,
 "nbformat_minor": 2
}
